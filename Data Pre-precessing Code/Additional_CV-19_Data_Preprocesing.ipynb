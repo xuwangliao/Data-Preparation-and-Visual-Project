{
 "cells": [
  {
   "cell_type": "code",
   "execution_count": 1,
   "metadata": {},
   "outputs": [],
   "source": [
    "import pandas as pd\n",
    "import numpy as np\n",
    "pd.set_option('display.max_columns',500)\n",
    "pd.set_option('display.width',1000)"
   ]
  },
  {
   "cell_type": "code",
   "execution_count": 11,
   "metadata": {},
   "outputs": [
    {
     "name": "stdout",
     "output_type": "stream",
     "text": [
      "C:\\Users\\alexl\\Desktop\\COVID-19-master\\archived_data\\archived_daily_case_updates\n"
     ]
    }
   ],
   "source": [
    "#Make Sure Within the directory, only conain files that required update\n",
    "cd ~/Desktop/COVID-19-master/archived_data/archived_daily_case_updates"
   ]
  },
  {
   "cell_type": "code",
   "execution_count": 12,
   "metadata": {},
   "outputs": [],
   "source": [
    "import glob\n",
    "#grap all the csv file names\n",
    "# The * is not a regex, it just means \"match anything\"\n",
    "# This matches 01-22-2020.csv, 01-23-2020.csv, etc.\n",
    "list_of_dfs = []\n",
    "for filename in glob.glob(\"*.csv\"):\n",
    "        list_of_dfs.append(pd.read_csv(filename))"
   ]
  },
  {
   "cell_type": "code",
   "execution_count": 17,
   "metadata": {
    "scrolled": true
   },
   "outputs": [
    {
     "data": {
      "text/html": [
       "<div>\n",
       "<style scoped>\n",
       "    .dataframe tbody tr th:only-of-type {\n",
       "        vertical-align: middle;\n",
       "    }\n",
       "\n",
       "    .dataframe tbody tr th {\n",
       "        vertical-align: top;\n",
       "    }\n",
       "\n",
       "    .dataframe thead th {\n",
       "        text-align: right;\n",
       "    }\n",
       "</style>\n",
       "<table border=\"1\" class=\"dataframe\">\n",
       "  <thead>\n",
       "    <tr style=\"text-align: right;\">\n",
       "      <th></th>\n",
       "      <th>Province/State</th>\n",
       "      <th>Country/Region</th>\n",
       "      <th>Last Update</th>\n",
       "      <th>Confirmed</th>\n",
       "      <th>Deaths</th>\n",
       "      <th>Recovered</th>\n",
       "      <th>Suspected</th>\n",
       "    </tr>\n",
       "  </thead>\n",
       "  <tbody>\n",
       "    <tr>\n",
       "      <td>0</td>\n",
       "      <td>Anhui</td>\n",
       "      <td>Mainland China</td>\n",
       "      <td>1/21/2020 10pm</td>\n",
       "      <td>NaN</td>\n",
       "      <td>NaN</td>\n",
       "      <td>NaN</td>\n",
       "      <td>3.0</td>\n",
       "    </tr>\n",
       "    <tr>\n",
       "      <td>1</td>\n",
       "      <td>Beijing</td>\n",
       "      <td>Mainland China</td>\n",
       "      <td>1/21/2020 10pm</td>\n",
       "      <td>10.0</td>\n",
       "      <td>NaN</td>\n",
       "      <td>NaN</td>\n",
       "      <td>NaN</td>\n",
       "    </tr>\n",
       "    <tr>\n",
       "      <td>2</td>\n",
       "      <td>Chongqing</td>\n",
       "      <td>Mainland China</td>\n",
       "      <td>1/21/2020 10pm</td>\n",
       "      <td>5.0</td>\n",
       "      <td>NaN</td>\n",
       "      <td>NaN</td>\n",
       "      <td>NaN</td>\n",
       "    </tr>\n",
       "    <tr>\n",
       "      <td>3</td>\n",
       "      <td>Guangdong</td>\n",
       "      <td>Mainland China</td>\n",
       "      <td>1/21/2020 10pm</td>\n",
       "      <td>17.0</td>\n",
       "      <td>NaN</td>\n",
       "      <td>NaN</td>\n",
       "      <td>4.0</td>\n",
       "    </tr>\n",
       "    <tr>\n",
       "      <td>4</td>\n",
       "      <td>Guangxi</td>\n",
       "      <td>Mainland China</td>\n",
       "      <td>1/21/2020 10pm</td>\n",
       "      <td>NaN</td>\n",
       "      <td>NaN</td>\n",
       "      <td>NaN</td>\n",
       "      <td>1.0</td>\n",
       "    </tr>\n",
       "  </tbody>\n",
       "</table>\n",
       "</div>"
      ],
      "text/plain": [
       "  Province/State  Country/Region     Last Update  Confirmed  Deaths  Recovered  Suspected\n",
       "0          Anhui  Mainland China  1/21/2020 10pm        NaN     NaN        NaN        3.0\n",
       "1        Beijing  Mainland China  1/21/2020 10pm       10.0     NaN        NaN        NaN\n",
       "2      Chongqing  Mainland China  1/21/2020 10pm        5.0     NaN        NaN        NaN\n",
       "3      Guangdong  Mainland China  1/21/2020 10pm       17.0     NaN        NaN        4.0\n",
       "4        Guangxi  Mainland China  1/21/2020 10pm        NaN     NaN        NaN        1.0"
      ]
     },
     "execution_count": 17,
     "metadata": {},
     "output_type": "execute_result"
    }
   ],
   "source": [
    "list_of_dfs[0].head()"
   ]
  },
  {
   "cell_type": "code",
   "execution_count": 21,
   "metadata": {},
   "outputs": [
    {
     "data": {
      "text/plain": [
       "{'Confirmed',\n",
       " 'ConfnSusp',\n",
       " 'Country/Region',\n",
       " 'Country_Region',\n",
       " 'Deaths',\n",
       " 'Last Update',\n",
       " 'Last_Update',\n",
       " 'Notes',\n",
       " 'Province/State',\n",
       " 'Province_State',\n",
       " 'Recovered',\n",
       " 'Suspected'}"
      ]
     },
     "execution_count": 21,
     "metadata": {},
     "output_type": "execute_result"
    }
   ],
   "source": [
    "#process column names, standardise \n",
    "n=len(list_of_dfs)\n",
    "column_names = set()\n",
    "for i in range(n):\n",
    "    for col in list_of_dfs[i].columns:\n",
    "        if col not in column_names:\n",
    "            column_names.add(col)\n",
    "column_names"
   ]
  },
  {
   "cell_type": "code",
   "execution_count": 27,
   "metadata": {},
   "outputs": [],
   "source": [
    "#Only certain columns are required from the files\n",
    "column_names_needed = ['Province_State','Country_Region','Last_Update','Confirmed','Deaths','Recovered']"
   ]
  },
  {
   "cell_type": "code",
   "execution_count": 28,
   "metadata": {},
   "outputs": [],
   "source": [
    "update_column_names = {'Country/Region':'Country_Region','Last Update':'Last_Update','Lat':'Latitude','Long_':'Longitude','Province/State':'Province_State'}\n",
    "for i in range(n):\n",
    "     list_of_dfs[i].rename(columns=update_column_names, inplace=True)"
   ]
  },
  {
   "cell_type": "code",
   "execution_count": 29,
   "metadata": {},
   "outputs": [
    {
     "data": {
      "text/html": [
       "<div>\n",
       "<style scoped>\n",
       "    .dataframe tbody tr th:only-of-type {\n",
       "        vertical-align: middle;\n",
       "    }\n",
       "\n",
       "    .dataframe tbody tr th {\n",
       "        vertical-align: top;\n",
       "    }\n",
       "\n",
       "    .dataframe thead th {\n",
       "        text-align: right;\n",
       "    }\n",
       "</style>\n",
       "<table border=\"1\" class=\"dataframe\">\n",
       "  <thead>\n",
       "    <tr style=\"text-align: right;\">\n",
       "      <th></th>\n",
       "      <th>Province_State</th>\n",
       "      <th>Province_State</th>\n",
       "      <th>Country_Region</th>\n",
       "      <th>Country_Region</th>\n",
       "      <th>Last_Update</th>\n",
       "      <th>Last_Update</th>\n",
       "      <th>Confirmed</th>\n",
       "      <th>Deaths</th>\n",
       "      <th>Recovered</th>\n",
       "    </tr>\n",
       "  </thead>\n",
       "  <tbody>\n",
       "    <tr>\n",
       "      <td>0</td>\n",
       "      <td>Anhui</td>\n",
       "      <td>NaN</td>\n",
       "      <td>Mainland China</td>\n",
       "      <td>NaN</td>\n",
       "      <td>1/21/2020 10pm</td>\n",
       "      <td>NaN</td>\n",
       "      <td>NaN</td>\n",
       "      <td>NaN</td>\n",
       "      <td>NaN</td>\n",
       "    </tr>\n",
       "    <tr>\n",
       "      <td>1</td>\n",
       "      <td>Beijing</td>\n",
       "      <td>NaN</td>\n",
       "      <td>Mainland China</td>\n",
       "      <td>NaN</td>\n",
       "      <td>1/21/2020 10pm</td>\n",
       "      <td>NaN</td>\n",
       "      <td>10.0</td>\n",
       "      <td>NaN</td>\n",
       "      <td>NaN</td>\n",
       "    </tr>\n",
       "    <tr>\n",
       "      <td>2</td>\n",
       "      <td>Chongqing</td>\n",
       "      <td>NaN</td>\n",
       "      <td>Mainland China</td>\n",
       "      <td>NaN</td>\n",
       "      <td>1/21/2020 10pm</td>\n",
       "      <td>NaN</td>\n",
       "      <td>5.0</td>\n",
       "      <td>NaN</td>\n",
       "      <td>NaN</td>\n",
       "    </tr>\n",
       "    <tr>\n",
       "      <td>3</td>\n",
       "      <td>Guangdong</td>\n",
       "      <td>NaN</td>\n",
       "      <td>Mainland China</td>\n",
       "      <td>NaN</td>\n",
       "      <td>1/21/2020 10pm</td>\n",
       "      <td>NaN</td>\n",
       "      <td>17.0</td>\n",
       "      <td>NaN</td>\n",
       "      <td>NaN</td>\n",
       "    </tr>\n",
       "    <tr>\n",
       "      <td>4</td>\n",
       "      <td>Guangxi</td>\n",
       "      <td>NaN</td>\n",
       "      <td>Mainland China</td>\n",
       "      <td>NaN</td>\n",
       "      <td>1/21/2020 10pm</td>\n",
       "      <td>NaN</td>\n",
       "      <td>NaN</td>\n",
       "      <td>NaN</td>\n",
       "      <td>NaN</td>\n",
       "    </tr>\n",
       "  </tbody>\n",
       "</table>\n",
       "</div>"
      ],
      "text/plain": [
       "   Province_State  Province_State  Country_Region  Country_Region     Last_Update  Last_Update  Confirmed  Deaths  Recovered\n",
       "0           Anhui             NaN  Mainland China             NaN  1/21/2020 10pm          NaN        NaN     NaN        NaN\n",
       "1         Beijing             NaN  Mainland China             NaN  1/21/2020 10pm          NaN       10.0     NaN        NaN\n",
       "2       Chongqing             NaN  Mainland China             NaN  1/21/2020 10pm          NaN        5.0     NaN        NaN\n",
       "3       Guangdong             NaN  Mainland China             NaN  1/21/2020 10pm          NaN       17.0     NaN        NaN\n",
       "4         Guangxi             NaN  Mainland China             NaN  1/21/2020 10pm          NaN        NaN     NaN        NaN"
      ]
     },
     "execution_count": 29,
     "metadata": {},
     "output_type": "execute_result"
    }
   ],
   "source": [
    "#adjust columns orders and create new columns ready to combine\n",
    "for i in range(n):\n",
    "    for col in column_names:\n",
    "        if col not in list_of_dfs[i]:\n",
    "            list_of_dfs[i][col]=np.nan\n",
    "column_name_ordered = column_names_needed\n",
    "for i in range(n):\n",
    "    list_of_dfs[i]=list_of_dfs[i][column_name_ordered]\n",
    "combined_df = pd.concat(list_of_dfs)\n",
    "combined_df.head()"
   ]
  },
  {
   "cell_type": "code",
   "execution_count": null,
   "metadata": {},
   "outputs": [],
   "source": [
    "#I realized inconsistency of country names: eg China and Mianland China, UK and United Kingdom.\n",
    "#Adjust inconsistency in naming\n",
    "combined_df['Country_Region'] = combined_df['Country_Region'].replace('Mainland China','China')\n",
    "combined_df['Country_Region'] = combined_df['Country_Region'].replace('UK','United Kingdom')\n",
    "combined_df['Country_Region'] = combined_df['Country_Region'].replace('Bahamas, The','Bahamas')\n",
    "combined_df['Country_Region'] = combined_df['Country_Region'].replace('Gambia, The','Gambia')\n",
    "combined_df['Country_Region'] = combined_df['Country_Region'].replace('Gambia, The','Gambia')\n",
    "combined_df['Country_Region'] = combined_df['Country_Region'].replace('Guinea-Bissau, The','Guinea')\n",
    "combined_df['Country_Region'] = combined_df['Country_Region'].replace('Iran (Islamic Republic of)','Iran')\n",
    "combined_df['Country_Region'] = combined_df['Country_Region'].replace('Republic of Ireland','Ireland')\n",
    "combined_df['Country_Region'] = combined_df['Country_Region'].replace('Republic of Ireland','Ireland')\n",
    "combined_df['Country_Region'] = combined_df['Country_Region'].replace('Republic of Korea','Korea')\n",
    "combined_df['Country_Region'] = combined_df['Country_Region'].replace('Republic of Moldova','Moldova')\n",
    "combined_df['Country_Region'] = combined_df['Country_Region'].replace('Republic of Korea','Korea')\n",
    "combined_df['Country_Region'] = combined_df['Country_Region'].replace('Republic of the Congo','Congo')\n",
    "combined_df['Country_Region'] = combined_df['Country_Region'].replace('Taipei and environs','Taiwan*')\n",
    "combined_df['Country_Region'] = combined_df['Country_Region'].replace('Taiwan','Taiwan*')\n",
    "combined_df['Province_State'] = combined_df['Province_State'].replace('Unknown',np.nan)\n",
    "combined_df.head()"
   ]
  },
  {
   "cell_type": "code",
   "execution_count": 36,
   "metadata": {},
   "outputs": [],
   "source": [
    "#save combined_df DataFrame to additional_data.csv\n",
    "combined_df.to_csv('~/Desktop/COVID-19-master/additional_data.csv')"
   ]
  },
  {
   "cell_type": "code",
   "execution_count": 40,
   "metadata": {},
   "outputs": [
    {
     "name": "stdout",
     "output_type": "stream",
     "text": [
      "C:\\Users\\alexl\\Desktop\\COVID-19-master\n"
     ]
    }
   ],
   "source": [
    "cd ~/Desktop/COVID-19-master"
   ]
  },
  {
   "cell_type": "code",
   "execution_count": 44,
   "metadata": {},
   "outputs": [
    {
     "data": {
      "text/html": [
       "<div>\n",
       "<style scoped>\n",
       "    .dataframe tbody tr th:only-of-type {\n",
       "        vertical-align: middle;\n",
       "    }\n",
       "\n",
       "    .dataframe tbody tr th {\n",
       "        vertical-align: top;\n",
       "    }\n",
       "\n",
       "    .dataframe thead th {\n",
       "        text-align: right;\n",
       "    }\n",
       "</style>\n",
       "<table border=\"1\" class=\"dataframe\">\n",
       "  <thead>\n",
       "    <tr style=\"text-align: right;\">\n",
       "      <th></th>\n",
       "      <th>Province_State</th>\n",
       "      <th>Country_Region</th>\n",
       "      <th>Last_Update</th>\n",
       "      <th>Confirmed</th>\n",
       "      <th>Deaths</th>\n",
       "      <th>Recovered</th>\n",
       "      <th>Combined_Key</th>\n",
       "    </tr>\n",
       "  </thead>\n",
       "  <tbody>\n",
       "    <tr>\n",
       "      <td>0</td>\n",
       "      <td>Anhui</td>\n",
       "      <td>Mainland China</td>\n",
       "      <td>1/21/2020 10pm</td>\n",
       "      <td>NaN</td>\n",
       "      <td>NaN</td>\n",
       "      <td>NaN</td>\n",
       "      <td>Anhui ,Mainland China</td>\n",
       "    </tr>\n",
       "    <tr>\n",
       "      <td>1</td>\n",
       "      <td>Beijing</td>\n",
       "      <td>Mainland China</td>\n",
       "      <td>1/21/2020 10pm</td>\n",
       "      <td>10.0</td>\n",
       "      <td>NaN</td>\n",
       "      <td>NaN</td>\n",
       "      <td>Beijing ,Mainland China</td>\n",
       "    </tr>\n",
       "    <tr>\n",
       "      <td>2</td>\n",
       "      <td>Chongqing</td>\n",
       "      <td>Mainland China</td>\n",
       "      <td>1/21/2020 10pm</td>\n",
       "      <td>5.0</td>\n",
       "      <td>NaN</td>\n",
       "      <td>NaN</td>\n",
       "      <td>Chongqing ,Mainland China</td>\n",
       "    </tr>\n",
       "    <tr>\n",
       "      <td>3</td>\n",
       "      <td>Guangdong</td>\n",
       "      <td>Mainland China</td>\n",
       "      <td>1/21/2020 10pm</td>\n",
       "      <td>17.0</td>\n",
       "      <td>NaN</td>\n",
       "      <td>NaN</td>\n",
       "      <td>Guangdong ,Mainland China</td>\n",
       "    </tr>\n",
       "    <tr>\n",
       "      <td>4</td>\n",
       "      <td>Guangxi</td>\n",
       "      <td>Mainland China</td>\n",
       "      <td>1/21/2020 10pm</td>\n",
       "      <td>NaN</td>\n",
       "      <td>NaN</td>\n",
       "      <td>NaN</td>\n",
       "      <td>Guangxi ,Mainland China</td>\n",
       "    </tr>\n",
       "  </tbody>\n",
       "</table>\n",
       "</div>"
      ],
      "text/plain": [
       "  Province_State  Country_Region     Last_Update  Confirmed  Deaths  Recovered               Combined_Key\n",
       "0          Anhui  Mainland China  1/21/2020 10pm        NaN     NaN        NaN      Anhui ,Mainland China\n",
       "1        Beijing  Mainland China  1/21/2020 10pm       10.0     NaN        NaN    Beijing ,Mainland China\n",
       "2      Chongqing  Mainland China  1/21/2020 10pm        5.0     NaN        NaN  Chongqing ,Mainland China\n",
       "3      Guangdong  Mainland China  1/21/2020 10pm       17.0     NaN        NaN  Guangdong ,Mainland China\n",
       "4        Guangxi  Mainland China  1/21/2020 10pm        NaN     NaN        NaN    Guangxi ,Mainland China"
      ]
     },
     "execution_count": 44,
     "metadata": {},
     "output_type": "execute_result"
    }
   ],
   "source": [
    "modified_add_data = pd.read_csv('additional_data.csv')\n",
    "modified_add_data.head()"
   ]
  },
  {
   "cell_type": "code",
   "execution_count": null,
   "metadata": {},
   "outputs": [],
   "source": []
  }
 ],
 "metadata": {
  "kernelspec": {
   "display_name": "Python 3",
   "language": "python",
   "name": "python3"
  },
  "language_info": {
   "codemirror_mode": {
    "name": "ipython",
    "version": 3
   },
   "file_extension": ".py",
   "mimetype": "text/x-python",
   "name": "python",
   "nbconvert_exporter": "python",
   "pygments_lexer": "ipython3",
   "version": "3.6.9"
  }
 },
 "nbformat": 4,
 "nbformat_minor": 2
}
